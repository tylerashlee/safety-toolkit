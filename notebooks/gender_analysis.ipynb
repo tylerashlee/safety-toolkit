{
 "cells": [
  {
   "cell_type": "code",
   "execution_count": 14,
   "id": "8f08ed31",
   "metadata": {},
   "outputs": [],
   "source": [
    "import pandas as pd\n",
    "from vaderSentiment.vaderSentiment import SentimentIntensityAnalyzer"
   ]
  },
  {
   "cell_type": "code",
   "execution_count": 17,
   "id": "34a793c1",
   "metadata": {},
   "outputs": [],
   "source": [
    "analyzer = SentimentIntensityAnalyzer()"
   ]
  },
  {
   "cell_type": "code",
   "execution_count": 4,
   "id": "f112be1c",
   "metadata": {},
   "outputs": [],
   "source": [
    "df = pd.read_csv(\"../datasets/gender_only.csv\") "
   ]
  },
  {
   "cell_type": "code",
   "execution_count": 18,
   "id": "5ca7f0c3",
   "metadata": {},
   "outputs": [],
   "source": [
    "# Apply VADER to each tweet\n",
    "def get_sentiment(text):\n",
    "    return analyzer.polarity_scores(text)['compound']\n",
    "\n",
    "df['sentiment_score'] = df['tweet_text'].apply(get_sentiment)"
   ]
  },
  {
   "cell_type": "code",
   "execution_count": 5,
   "id": "5b0ff742",
   "metadata": {},
   "outputs": [
    {
     "data": {
      "text/html": [
       "<div>\n",
       "<style scoped>\n",
       "    .dataframe tbody tr th:only-of-type {\n",
       "        vertical-align: middle;\n",
       "    }\n",
       "\n",
       "    .dataframe tbody tr th {\n",
       "        vertical-align: top;\n",
       "    }\n",
       "\n",
       "    .dataframe thead th {\n",
       "        text-align: right;\n",
       "    }\n",
       "</style>\n",
       "<table border=\"1\" class=\"dataframe\">\n",
       "  <thead>\n",
       "    <tr style=\"text-align: right;\">\n",
       "      <th></th>\n",
       "      <th>tweet_text</th>\n",
       "      <th>cyberbullying_type</th>\n",
       "    </tr>\n",
       "  </thead>\n",
       "  <tbody>\n",
       "    <tr>\n",
       "      <th>0</th>\n",
       "      <td>rape is real..zvasiyana nema jokes about being...</td>\n",
       "      <td>gender</td>\n",
       "    </tr>\n",
       "    <tr>\n",
       "      <th>1</th>\n",
       "      <td>You never saw any celebrity say anything like ...</td>\n",
       "      <td>gender</td>\n",
       "    </tr>\n",
       "    <tr>\n",
       "      <th>2</th>\n",
       "      <td>@ManhattaKnight I mean he's gay, but he uses g...</td>\n",
       "      <td>gender</td>\n",
       "    </tr>\n",
       "    <tr>\n",
       "      <th>3</th>\n",
       "      <td>RT @Raul_Novoa16: @AliciaBernardez @Alex_Aim @...</td>\n",
       "      <td>gender</td>\n",
       "    </tr>\n",
       "    <tr>\n",
       "      <th>4</th>\n",
       "      <td>Rape is rape. And the fact that I read one pos...</td>\n",
       "      <td>gender</td>\n",
       "    </tr>\n",
       "  </tbody>\n",
       "</table>\n",
       "</div>"
      ],
      "text/plain": [
       "                                          tweet_text cyberbullying_type\n",
       "0  rape is real..zvasiyana nema jokes about being...             gender\n",
       "1  You never saw any celebrity say anything like ...             gender\n",
       "2  @ManhattaKnight I mean he's gay, but he uses g...             gender\n",
       "3  RT @Raul_Novoa16: @AliciaBernardez @Alex_Aim @...             gender\n",
       "4  Rape is rape. And the fact that I read one pos...             gender"
      ]
     },
     "execution_count": 5,
     "metadata": {},
     "output_type": "execute_result"
    }
   ],
   "source": [
    "df.head()"
   ]
  },
  {
   "cell_type": "code",
   "execution_count": null,
   "id": "bfbfe388",
   "metadata": {},
   "outputs": [],
   "source": [
    "primary_keywords = [\"she\", \"her\", \"woman\", \"women\", \"girl\", \"female\",\"females\",\"femcel\",\"feminazi\",\"hoe\", \n",
    "                    \"bitch\",\"bitches\",\"whore\",\"tits\",\"pussy\",\"vag\",\"hag\",\"tramp\",\"Karen\",\"thot\",\"OF\",\"onlyfans\",\"attention seeker\"]\n",
    "secondary_keywords = [\"gold digger\", \"tramp\", \"cunt\", \"wife\",\"girlfriend\",\"gyal\",\"feminist\",\"feminists\"]"
   ]
  },
  {
   "cell_type": "code",
   "execution_count": 12,
   "id": "d05705f9",
   "metadata": {},
   "outputs": [],
   "source": [
    "# Auto-tag likely female-targeted tweets\n",
    "df['is_targeting_women'] = df['tweet_text'].str.lower().apply(\n",
    "    lambda text: any(word in text for word in primary_keywords)\n",
    ")\n",
    "\n",
    "# Flag tweets that might need manual review\n",
    "df['needs_review'] = df['tweet_text'].str.lower().apply(\n",
    "    lambda text: any(word in text for word in secondary_keywords)\n",
    ")"
   ]
  },
  {
   "cell_type": "code",
   "execution_count": 11,
   "id": "bba0fe61",
   "metadata": {},
   "outputs": [],
   "source": [
    "df[df['is_targeting_women'] == True].to_csv('../datasets/tweets_targeting_women.csv', index=False)\n",
    "df[df['needs_review'] == True].to_csv('../datasets/tweets_needs_review.csv', index=False)"
   ]
  },
  {
   "cell_type": "code",
   "execution_count": 13,
   "id": "003e9e1b",
   "metadata": {},
   "outputs": [
    {
     "name": "stdout",
     "output_type": "stream",
     "text": [
      "Collecting vaderSentiment\n",
      "  Downloading vaderSentiment-3.3.2-py2.py3-none-any.whl.metadata (572 bytes)\n",
      "Collecting requests (from vaderSentiment)\n",
      "  Downloading requests-2.32.3-py3-none-any.whl.metadata (4.6 kB)\n",
      "Collecting charset-normalizer<4,>=2 (from requests->vaderSentiment)\n",
      "  Downloading charset_normalizer-3.4.2-cp312-cp312-macosx_10_13_universal2.whl.metadata (35 kB)\n",
      "Collecting idna<4,>=2.5 (from requests->vaderSentiment)\n",
      "  Downloading idna-3.10-py3-none-any.whl.metadata (10 kB)\n",
      "Collecting urllib3<3,>=1.21.1 (from requests->vaderSentiment)\n",
      "  Downloading urllib3-2.4.0-py3-none-any.whl.metadata (6.5 kB)\n",
      "Collecting certifi>=2017.4.17 (from requests->vaderSentiment)\n",
      "  Downloading certifi-2025.4.26-py3-none-any.whl.metadata (2.5 kB)\n",
      "Downloading vaderSentiment-3.3.2-py2.py3-none-any.whl (125 kB)\n",
      "Downloading requests-2.32.3-py3-none-any.whl (64 kB)\n",
      "Downloading charset_normalizer-3.4.2-cp312-cp312-macosx_10_13_universal2.whl (199 kB)\n",
      "Downloading idna-3.10-py3-none-any.whl (70 kB)\n",
      "Downloading urllib3-2.4.0-py3-none-any.whl (128 kB)\n",
      "Downloading certifi-2025.4.26-py3-none-any.whl (159 kB)\n",
      "Installing collected packages: urllib3, idna, charset-normalizer, certifi, requests, vaderSentiment\n",
      "\u001b[2K   \u001b[90m━━━━━━━━━━━━━━━━━━━━━━━━━━━━━━━━━━━━━━━━\u001b[0m \u001b[32m6/6\u001b[0m [vaderSentiment]m [charset-normalizer]\n",
      "\u001b[1A\u001b[2KSuccessfully installed certifi-2025.4.26 charset-normalizer-3.4.2 idna-3.10 requests-2.32.3 urllib3-2.4.0 vaderSentiment-3.3.2\n"
     ]
    }
   ],
   "source": [
    "!pip install vaderSentiment"
   ]
  },
  {
   "cell_type": "code",
   "execution_count": 19,
   "id": "c663c169",
   "metadata": {},
   "outputs": [],
   "source": [
    "df['is_hostile_to_women'] = (df['is_targeting_women']) & (df['sentiment_score'] < -0.05)"
   ]
  },
  {
   "cell_type": "code",
   "execution_count": 20,
   "id": "a25366b7",
   "metadata": {},
   "outputs": [],
   "source": [
    "df['is_hostile_needs_review'] = (df['needs_review']) & (df['sentiment_score'] < -0.05)"
   ]
  },
  {
   "cell_type": "code",
   "execution_count": 22,
   "id": "2ec9a945",
   "metadata": {},
   "outputs": [],
   "source": [
    "df[df['is_hostile_to_women']].to_csv(\"../datasets/hostile_tweets_targeting_women.csv\", index=False)\n",
    "df[df['is_hostile_needs_review']].to_csv(\"../datasets/hostile_tweets_needs_review.csv\", index=False)"
   ]
  }
 ],
 "metadata": {
  "kernelspec": {
   "display_name": ".venv",
   "language": "python",
   "name": "python3"
  },
  "language_info": {
   "codemirror_mode": {
    "name": "ipython",
    "version": 3
   },
   "file_extension": ".py",
   "mimetype": "text/x-python",
   "name": "python",
   "nbconvert_exporter": "python",
   "pygments_lexer": "ipython3",
   "version": "3.12.5"
  }
 },
 "nbformat": 4,
 "nbformat_minor": 5
}
